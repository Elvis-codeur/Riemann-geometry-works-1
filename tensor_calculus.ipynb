{
 "cells": [
  {
   "cell_type": "code",
   "execution_count": 1,
   "metadata": {},
   "outputs": [
    {
     "data": {
      "text/plain": [
       "<module 'sage' from '/opt/sagemath-9.3/local/lib/python3.7/site-packages/sage/__init__.py'>"
      ]
     },
     "execution_count": 1,
     "metadata": {},
     "output_type": "execute_result"
    }
   ],
   "source": [
    "sage\n"
   ]
  },
  {
   "cell_type": "code",
   "execution_count": 2,
   "metadata": {},
   "outputs": [
    {
     "data": {
      "text/plain": [
       "16"
      ]
     },
     "execution_count": 2,
     "metadata": {},
     "output_type": "execute_result"
    }
   ],
   "source": [
    "x = var(\"x\")\n",
    "eqn =  (x-1)^2 \n",
    "eqn.subs(x == 5)"
   ]
  },
  {
   "cell_type": "code",
   "execution_count": 3,
   "metadata": {},
   "outputs": [
    {
     "data": {
      "text/plain": [
       "4*(x^2 + y)*x"
      ]
     },
     "execution_count": 3,
     "metadata": {},
     "output_type": "execute_result"
    }
   ],
   "source": [
    "var(\"x y\")\n",
    "t = (x^2 +y)^2 \n",
    "t.derivative(x)"
   ]
  },
  {
   "cell_type": "code",
   "execution_count": 4,
   "metadata": {},
   "outputs": [
    {
     "data": {
      "text/plain": [
       "12*x^2 + 4*y"
      ]
     },
     "execution_count": 4,
     "metadata": {},
     "output_type": "execute_result"
    }
   ],
   "source": [
    "t.derivative(x,2)"
   ]
  },
  {
   "cell_type": "code",
   "execution_count": 5,
   "metadata": {},
   "outputs": [],
   "source": [
    "# A partir de maintenant je vais commencer à écrire des algorithmes relatifs à la géométrie de Rieman"
   ]
  },
  {
   "cell_type": "code",
   "execution_count": 7,
   "metadata": {},
   "outputs": [],
   "source": [
    "def base_naturel(expressions,curv_coor):\n",
    "    base_n=[]\n",
    "    for i in curv_coor:\n",
    "        vector_base_naturel = []\n",
    "        for u in expressions:\n",
    "            vector_base_naturel.append(u.derivative(i))\n",
    "        base_n.append(vector_base_naturel)\n",
    "        \n",
    "    return base_n\n",
    "\n",
    "def scalar(x,y):\n",
    "    if(len(x) == len(y)):\n",
    "        a=var(\"jkl\")\n",
    "        result=a-a\n",
    "        \n",
    "        for i in range(len(x)):\n",
    "            #print(a)\n",
    "            k=x[i]*y[i]\n",
    "            result= result+k\n",
    "        #print(result)\n",
    "        return result.trig_reduce()\n",
    "    else:\n",
    "        print(len(x),len(y))\n",
    "              \n",
    "def tenseur_metrique(base_naturel):\n",
    "    l=base_naturel\n",
    "    result =[]\n",
    "    for i in base_naturel:\n",
    "        k=[]\n",
    "        for u in l:\n",
    "            j = scalar(i,u)\n",
    "            \n",
    "            k.append(j.simplify_full())\n",
    "            \n",
    "        result.append(k)\n",
    "            \n",
    "    return result \n",
    "\n",
    "def chirstoffel_one(tenseur_metrique,curv_coor):\n",
    "    result=[]\n",
    "    dim = len(curv_coor)\n",
    "    \n",
    "    for k in range(dim):\n",
    "        cont1=[]\n",
    "        for j in range(dim):\n",
    "            cont2=[]\n",
    "            for i in range(dim):\n",
    "                g = (1/2)*(\n",
    "                tenseur_metrique[i][j].derivative(curv_coor[k])+tenseur_metrique[j][k].derivative(curv_coor[i])-\\\n",
    "                tenseur_metrique[k][i].derivative(curv_coor[j]))\n",
    "                \n",
    "                g.simplify_full()\n",
    "                \n",
    "                cont2.append(g)\n",
    "            cont1.append(cont2)\n",
    "        result.append(cont1)\n",
    "                \n",
    "    return result \n",
    "            \n",
    "        \n",
    "def christoffel_two(tenseur_metrique,curv_coor):\n",
    "    result=[]\n",
    "    dim = len(curv_coor)\n",
    "    \n",
    "    for k in range(dim):\n",
    "        cont1=[]\n",
    "        for i in range(dim):\n",
    "            cont2=[]\n",
    "            for j in range(dim):\n",
    "                a = var(\"jkl\")\n",
    "                a=a-a\n",
    "                for l in range(dim):\n",
    "                    if(tenseur_metrique[i][l]!=0):\n",
    "                        \n",
    "                        a = a + (1/2)*(1/(tenseur_metrique[i][l]))*(\n",
    "                        tenseur_metrique[j][l].derivative(curv_coor[k])+tenseur_metrique[l][k].derivative(curv_coor[j])-\\\n",
    "                        tenseur_metrique[k][j].derivative(curv_coor[l]))\n",
    "                        \n",
    "                a.simplify_full()\n",
    "                cont2.append(a)\n",
    "                \n",
    "            cont1.append(cont2)\n",
    "            \n",
    "        result.append(cont1)   \n",
    "    \n",
    "    return result\n",
    "\n",
    "\n",
    "def tenseur_riem_christ(tenseur_metrique,curv_coor):\n",
    "    \"\"\" Donne le tenseur covariant de Riemann Chirstoffel \"\"\"\n",
    "    result=[]\n",
    "    dim = len(curv_coor)\n",
    "    \n",
    "    christ2 = christoffel_two(tenseur_metrique,curv_coor)\n",
    "    christ1 = chirstoffel_one(tenseur_metrique,curv_coor)\n",
    "    \n",
    "    for i in range(dim):\n",
    "        cont1=[]\n",
    "        for j in range(dim):\n",
    "            cont2=[]\n",
    "            for r in range(dim):\n",
    "                cont3=[]\n",
    "                for s in range(dim):\n",
    "                    a = var(\"a\")\n",
    "                    a = a - a\n",
    "                    a = christ2[i][j][s].derivative(curv_coor[r])-christ2[i][j][r].derivative(curv_coor[s])\n",
    "                    for k in range(dim):\n",
    "                        a = a - christ2[r][k][j]*christ1[i][k][s]+christ2[s][k][j]*christ2[i][k][r]\n",
    "                        \n",
    "                    a.simplify_full()    \n",
    "                    \n",
    "                    cont3.append(a)\n",
    "                cont2.append(cont3)\n",
    "            cont1.append(cont2)\n",
    "        result.append(cont1)\n",
    "        \n",
    "    return result\n",
    "                \n",
    "def tenseur_ricci(tenseur_metrique,curv_coor):\n",
    "    result=[]\n",
    "    dim = len(curv_coor)\n",
    "    \n",
    "    christ2 =christoffel_two(tenseur_metrique,curv_coor)\n",
    "    \n",
    "    for i in range(dim):\n",
    "        cont1=[]\n",
    "        for s in range(dim):\n",
    "            b=var(\"b\")\n",
    "            b=b-b\n",
    "            for k in range(dim):\n",
    "                a = var(\"a\")\n",
    "                a = a -a\n",
    "                a = christ2[i][k][s].derivative(curv_coor[k])-christ2[i][k][k].derivative(curv_coor[s])\n",
    "                for l in range(dim):\n",
    "                    a = a+christ2[i][l][s]*christ2[k][k][l]-christ2[i][l][k]*christ2[s][k][l]\n",
    "                b=b+a\n",
    "                \n",
    "            b.simplify_full()\n",
    "            \n",
    "            cont1.append(b)\n",
    "        result.append(cont1)\n",
    "        \n",
    "    return result\n",
    "    \n",
    "\n",
    "def courbure_scalaire(tenseur_metrique,curv_coor):\n",
    "    R = var(\"R\")\n",
    "    R = R - R\n",
    "    dim = len(curv_coor)\n",
    "    ricci = tenseur_ricci(tenseur_metrique,curv_coor)\n",
    "    \n",
    "    for i in range(dim):\n",
    "        for j in range(dim):\n",
    "            if(tenseur_metrique[i][j] != 0):\n",
    "                R = R + ((1/tenseur_metrique[i][j])*ricci[i][j]).trig_reduce()\n",
    "            else:\n",
    "                R = R + 0\n",
    "                \n",
    "                \n",
    "    return R.trig_reduce()\n",
    "\n",
    "def geodesic(curv_coor,christ_2,temps,subs=0):\n",
    "    result = []\n",
    "    chr2 = christ_2\n",
    "    \n",
    "    for i in range(len(curv_coor)):\n",
    "        for j in range(len(curv_coor)):\n",
    "            for k in range(len(curv_coor)):\n",
    "                for l in range(len(curv_coor)):\n",
    "                \n",
    "                    chr2[i][j][k] = chr2[i][j][k].substitute(u1=subs[0],u2=subs[1],u3=subs[2])\n",
    "        \n",
    "    for l in range(len(curv_coor)):\n",
    "        curv_coor[l].substitute(u1=subs[0])\n",
    "        curv_coor[l].substitute(u2=subs[1])\n",
    "        curv_coor[l].substitute(u3=subs[2])\n",
    "        print(curv_coor[l])\n",
    "        a = curv_coor[l].derivative(temps,2)\n",
    "        print(a)\n",
    "        \n",
    "        jkl = var(\"jkl\")\n",
    "        jkl = jkl - jkl \n",
    "        for i in range(len(curv_coor)):\n",
    "            for k in range(len(curv_coor)):\n",
    "                jkl = jkl + christ_2[i][l][k] + curv_coor[i].derivative(temps)*curv_coor[k].derivative(temps)\n",
    "             \n",
    "        a=a+jkl\n",
    "        result.append(a.simplify_full())\n",
    "        \n",
    "    return result\n",
    "                \n",
    "        \n",
    "        \n",
    "            \n",
    "    \n",
    "                    \n",
    "                    \n",
    "                    \n",
    "\n",
    "        \n"
   ]
  },
  {
   "cell_type": "code",
   "execution_count": 8,
   "metadata": {},
   "outputs": [
    {
     "name": "stdout",
     "output_type": "stream",
     "text": [
      "\n",
      "\n",
      "base_n= [[cos(u3)*sin(u2), sin(u2)*sin(u3), cos(u2)], [u1*cos(u2)*cos(u3), u1*cos(u2)*sin(u3), -u1*sin(u2)], [-u1*sin(u2)*sin(u3), u1*cos(u3)*sin(u2), 0]]\n",
      "\n",
      "\n",
      "tenseur_metrique= [[1, 0, 0], [0, u1^2, 0], [0, 0, u1^2*sin(u2)^2]]\n",
      "\n",
      "\n",
      "christ1= [[[0, 0, 0], [0, u1, 0], [0, 0, u1*sin(u2)^2]], [[0, -u1, 0], [u1, 0, 0], [0, 0, u1^2*cos(u2)*sin(u2)]], [[0, 0, -u1*sin(u2)^2], [0, 0, -u1^2*cos(u2)*sin(u2)], [u1*sin(u2)^2, u1^2*cos(u2)*sin(u2), 0]]]\n",
      "\n",
      "\n",
      "christ2= [[[0, 0, 0], [0, 1/u1, 0], [0, 0, 1/u1]], [[0, -u1, 0], [1/u1, 0, 0], [0, 0, cos(u2)/sin(u2)]], [[0, 0, -u1*sin(u2)^2], [0, 0, -cos(u2)*sin(u2)], [1/u1, cos(u2)/sin(u2), 0]]]\n",
      "\n",
      "\n",
      "riem_chirst= [[[[0, 0, 0], [0, 1/u1^2 - 1, 0], [0, 0, -sin(u2)^2 + 1/u1^2]], [[0, -1/u1^2 - 1, 0], [2/u1^2, 0, 0], [0, 0, -u1*cos(u2)*sin(u2) + cos(u2)/(u1*sin(u2))]], [[0, 0, -sin(u2)^2 - 1/u1^2], [0, 0, -u1*cos(u2)*sin(u2) - cos(u2)*sin(u2)/u1], [2/u1^2, u1*cos(u2)*sin(u2) + cos(u2)/(u1*sin(u2)), 0]]], [[[0, 1/u1^2 - 1, 0], [0, 0, 0], [0, 0, -u1*cos(u2)*sin(u2) + cos(u2)/(u1*sin(u2))]], [[1/u1^2 - 1, 0, 0], [0, 0, 0], [0, 0, -u1^2*cos(u2)^2 + cos(u2)^2/sin(u2)^2]], [[0, 0, -u1*cos(u2)*sin(u2) - cos(u2)*sin(u2)/u1], [0, 0, -u1^2*cos(u2)^2 + u1^2*sin(u2)^2 - cos(u2)^2/sin(u2)^2 - 1], [u1*cos(u2)*sin(u2) + cos(u2)/(u1*sin(u2)), -u1^2*sin(u2)^2 + 2*cos(u2)^2/sin(u2)^2 + 1, 0]]], [[[0, 0, -sin(u2)^2 + 1/u1^2], [0, 0, -u1*cos(u2)*sin(u2) + cos(u2)/(u1*sin(u2))], [0, u1*cos(u2)*sin(u2) - cos(u2)*sin(u2)/u1, 0]], [[0, 0, u1*cos(u2)*sin(u2) + cos(u2)/(u1*sin(u2))], [0, 0, -u1^2*sin(u2)^2 - cos(u2)^2 + sin(u2)^2 + cos(u2)^2/sin(u2)^2], [-u1*cos(u2)*sin(u2) - cos(u2)*sin(u2)/u1, -u1^2*cos(u2)^2 + u1^2*sin(u2)^2 + cos(u2)^2 - sin(u2)^2, 0]], [[-sin(u2)^2 + 1/u1^2, -u1*cos(u2)*sin(u2) + cos(u2)/(u1*sin(u2)), 0], [-u1*cos(u2)*sin(u2) + cos(u2)/(u1*sin(u2)), -u1^2*cos(u2)^2 + cos(u2)^2/sin(u2)^2, 0], [0, 0, -u1^2*cos(u2)^2*sin(u2)^2 + cos(u2)^2*sin(u2)^2]]]]\n",
      "\n",
      "\n",
      "ricci= [[0, 0, 0], [0, 0, 0], [0, 0, 0]]\n",
      "\n",
      "\n",
      "cbs= 0\n"
     ]
    }
   ],
   "source": [
    "base_cur=var(\"u1 u2 u3\")\n",
    "#[u1*u2*cos(u3),u1*u2*sin(u3),(1/2)*(u2^2-u1^2)]\n",
    "#[u1*cos(u2),u1*sin(u2)]\n",
    "\n",
    "base_n = base_naturel([u1*sin(u2)*cos(u3),u1*sin(u2)*sin(u3),u1*cos(u2)],base_cur)\n",
    "tf = tenseur_metrique(base_n)\n",
    "christ1=chirstoffel_one(tf,base_cur)\n",
    "christ2=christoffel_two(tf,base_cur)\n",
    "riem_christ=tenseur_riem_christ(tf,base_cur)\n",
    "ricci=tenseur_ricci(tf,base_cur)\n",
    "cbs=courbure_scalaire(tf,base_cur)\n",
    "#geo = geodesic(base_cur,christ2,var(\"t\"))\n",
    "\n",
    "print(\"\\n\\nbase_n=\",base_n)\n",
    "print(\"\\n\\ntenseur_metrique=\",tf)\n",
    "print(\"\\n\\nchrist1=\",christ1)\n",
    "print(\"\\n\\nchrist2=\",christ2)\n",
    "print(\"\\n\\nriem_chirst=\",riem_christ)\n",
    "print(\"\\n\\nricci=\",ricci)\n",
    "print(\"\\n\\ncbs=\",cbs)\n",
    "#print(\"\\n\\ngeodesic\",geo)\n"
   ]
  },
  {
   "cell_type": "code",
   "execution_count": 12,
   "metadata": {},
   "outputs": [
    {
     "name": "stdout",
     "output_type": "stream",
     "text": [
      "1/u1\n"
     ]
    }
   ],
   "source": [
    "base_curv = var(\"x1 x2 x3\")\n",
    "zero = var(\"a\") -var(\"a\")\n",
    "tenseur_metrique = [[1, zero, zero], [zero, 2*x1, zero], [zero, zero, 2*x2]]\n",
    "christ2=christoffel_two(tf,base_cur)\n",
    "\n",
    "print(christ2[0][1][1])"
   ]
  },
  {
   "cell_type": "code",
   "execution_count": 53,
   "metadata": {},
   "outputs": [
    {
     "name": "stdout",
     "output_type": "stream",
     "text": [
      "c t*w 0.7853981633974483\n",
      "u1\n",
      "0\n",
      "u2\n",
      "0\n",
      "u3\n",
      "0\n",
      "[[[0, 0, 0], [0, 1/c, 0], [0, 0, 1/c]], [[0, -c, 0], [1/c, 0, 0], [0, 0, cos(t*w)/sin(t*w)]], [[0, 0, -c*sin(t*w)^2], [0, 0, -cos(t*w)*sin(t*w)], [1/c, cos(t*w)/sin(t*w), 0]]]\n",
      "[c*cos(t*w)^2 - 2*c, -(c*cos(t*w)*sin(t*w) - 2)/c, 2*(c*cos(t*w) + sin(t*w))/(c*sin(t*w))]\n"
     ]
    }
   ],
   "source": [
    "a = var(\"c w t\")\n",
    "import math\n",
    "u1=c\n",
    "u2=w*t\n",
    "u3=math.pi/4\n",
    "print(u1,u2,u3)\n",
    "geo = geodesic(base_cur,christ2,a[2],[c,w*t,math.pi/4])\n",
    "print(christ2)\n",
    "eqs = []\n",
    "for i in geo:\n",
    "    eq = i==0\n",
    "    eq = eq.substitute(u1 = c,u2 =  w*t,u3 = math.pi/4)\n",
    "    eqs.append(eq)\n",
    "    \n",
    "print(geo)"
   ]
  },
  {
   "cell_type": "code",
   "execution_count": 35,
   "metadata": {},
   "outputs": [],
   "source": []
  },
  {
   "cell_type": "code",
   "execution_count": 36,
   "metadata": {},
   "outputs": [
    {
     "data": {
      "text/plain": [
       "-c*sin(t*w)^2 - c == 0"
      ]
     },
     "execution_count": 36,
     "metadata": {},
     "output_type": "execute_result"
    }
   ],
   "source": [
    "eq1.simplify_full()"
   ]
  },
  {
   "cell_type": "code",
   "execution_count": 38,
   "metadata": {},
   "outputs": [
    {
     "data": {
      "text/plain": [
       "cos(k)^2 + sin(k)^2"
      ]
     },
     "execution_count": 38,
     "metadata": {},
     "output_type": "execute_result"
    }
   ],
   "source": [
    "e"
   ]
  },
  {
   "cell_type": "code",
   "execution_count": 37,
   "metadata": {},
   "outputs": [
    {
     "data": {
      "text/plain": [
       "1"
      ]
     },
     "execution_count": 37,
     "metadata": {},
     "output_type": "execute_result"
    }
   ],
   "source": [
    "e.trig_reduce()"
   ]
  },
  {
   "cell_type": "code",
   "execution_count": 1,
   "metadata": {},
   "outputs": [],
   "source": [
    "var(\"x y\")\n",
    "f = 2*x + 5*y**2 "
   ]
  },
  {
   "cell_type": "code",
   "execution_count": 7,
   "metadata": {},
   "outputs": [
    {
     "data": {
      "text/plain": [
       "10"
      ]
     },
     "execution_count": 7,
     "metadata": {},
     "output_type": "execute_result"
    }
   ],
   "source": [
    "f.derivative(y,2)"
   ]
  },
  {
   "cell_type": "code",
   "execution_count": null,
   "metadata": {},
   "outputs": [],
   "source": []
  }
 ],
 "metadata": {
  "kernelspec": {
   "display_name": "SageMath 9.3",
   "language": "sage",
   "name": "sagemath"
  },
  "language_info": {
   "codemirror_mode": {
    "name": "ipython",
    "version": 3
   },
   "file_extension": ".py",
   "mimetype": "text/x-python",
   "name": "python",
   "nbconvert_exporter": "python",
   "pygments_lexer": "ipython3",
   "version": "3.7.10"
  }
 },
 "nbformat": 4,
 "nbformat_minor": 4
}
